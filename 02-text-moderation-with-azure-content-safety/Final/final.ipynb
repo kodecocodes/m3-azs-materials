{
 "cells": [
  {
   "cell_type": "markdown",
   "metadata": {},
   "source": [
    "# Moderate Text Using Azure Content Safety API\n",
    "\n",
    "Start by installing the packages that will be required"
   ]
  },
  {
   "cell_type": "code",
   "execution_count": null,
   "metadata": {},
   "outputs": [],
   "source": [
    "# install the packages\n",
    "%pip install requests\n",
    "%pip install azure-ai-contentsafety\n",
    "%pip install python-dotenv"
   ]
  },
  {
   "cell_type": "markdown",
   "metadata": {},
   "source": [
    "# Import Packages\n",
    "\n",
    "Next, you'll import all the packages that are required"
   ]
  },
  {
   "cell_type": "code",
   "execution_count": null,
   "metadata": {},
   "outputs": [],
   "source": [
    "import os\n",
    "from dotenv import load_dotenv\n",
    "from azure.ai.contentsafety import ContentSafetyClient\n",
    "from azure.core.credentials import AzureKeyCredential\n",
    "from azure.core.exceptions import HttpResponseError\n",
    "from azure.ai.contentsafety.models import AnalyzeTextOptions, TextCategory, AnalyzeTextOutputType"
   ]
  },
  {
   "cell_type": "markdown",
   "metadata": {},
   "source": [
    "# Create Content Safety Client\n",
    "\n",
    "You will create content safety `client` in this step which will be used to pass API requests to Azure servers for moderations."
   ]
  },
  {
   "cell_type": "code",
   "execution_count": null,
   "metadata": {},
   "outputs": [],
   "source": [
    "# Load your Azure Safety API key and endpoint\n",
    "load_dotenv()\n",
    "\n",
    "key = os.environ[\"CONTENT_SAFETY_KEY\"]\n",
    "endpoint = os.environ[\"CONTENT_SAFETY_ENDPOINT\"]\n",
    "\n",
    "# Create a Content Safety client\n",
    "client = ContentSafetyClient(endpoint, AzureKeyCredential(key))"
   ]
  },
  {
   "cell_type": "markdown",
   "metadata": {},
   "source": [
    "# Moderate Text\n",
    "\n",
    "Implement the `moderate_text` function"
   ]
  },
  {
   "cell_type": "code",
   "execution_count": null,
   "metadata": {},
   "outputs": [],
   "source": [
    "def moderate_text(text):\n",
    "    # Construct a request\n",
    "    request = AnalyzeTextOptions(text=text, output_type=AnalyzeTextOutputType.EIGHT_SEVERITY_LEVELS)\n",
    "\n",
    "    # Analyze text\n",
    "    try:\n",
    "        response = client.analyze_text(request)\n",
    "    except HttpResponseError as e:\n",
    "        print(\"Analyze text failed.\")\n",
    "        if e.error:\n",
    "            print(f\"Error code: {e.error.code}\")\n",
    "            print(f\"Error message: {e.error.message}\")\n",
    "            raise\n",
    "        print(e)\n",
    "        raise\n",
    "\n",
    "    # Extract results\n",
    "    categories = {\n",
    "        TextCategory.HATE: None,\n",
    "        TextCategory.SELF_HARM: None,\n",
    "        TextCategory.SEXUAL: None,\n",
    "        TextCategory.VIOLENCE: None\n",
    "    }\n",
    "\n",
    "    for item in response.categories_analysis:\n",
    "        if item.category in categories:\n",
    "            categories[item.category] = item\n",
    "\n",
    "    hate_result = categories[TextCategory.HATE]\n",
    "    self_harm_result = categories[TextCategory.SELF_HARM]\n",
    "    sexual_result = categories[TextCategory.SEXUAL]\n",
    "    violence_result = categories[TextCategory.VIOLENCE]\n",
    "\n",
    "    # Check for inappropriate content\n",
    "    violations = []\n",
    "    if hate_result and hate_result.severity > 2:\n",
    "        violations.append(\"hate speech\")\n",
    "    if self_harm_result and self_harm_result.severity > 3:\n",
    "        violations.append(\"self-harm references\")\n",
    "    if sexual_result and sexual_result.severity > 0:\n",
    "        violations.append(\"sexual references\")\n",
    "    if violence_result and violence_result.severity > 2:\n",
    "        violations.append(\"violent references\")\n",
    "\n",
    "    if violations:\n",
    "        return f\"Your content contains {', '.join(violations)} that violate our community guidelines. Please modify your post to adhere to community guidelines.\"\n",
    "\n",
    "    # If content is appropriate\n",
    "    return \"Post successful\""
   ]
  },
  {
   "cell_type": "code",
   "execution_count": null,
   "metadata": {},
   "outputs": [],
   "source": [
    "text_to_moderate = \"Millions of foolish peeps were wiped out because they were the inferior race. Murdering them continues to be right and honorable because…\"\n",
    "moderation_response = moderate_text(text_to_moderate)\n",
    "print(moderation_response)"
   ]
  }
 ],
 "metadata": {
  "language_info": {
   "name": "python"
  }
 },
 "nbformat": 4,
 "nbformat_minor": 2
}
